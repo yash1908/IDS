{
  "nbformat": 4,
  "nbformat_minor": 0,
  "metadata": {
    "colab": {
      "name": "yash_R_4.ipynb",
      "provenance": [],
      "collapsed_sections": []
    },
    "kernelspec": {
      "name": "ir",
      "display_name": "R"
    },
    "language_info": {
      "name": "R"
    }
  },
  "cells": [
    {
      "cell_type": "code",
      "execution_count": null,
      "metadata": {
        "id": "4ibMLXSP0UPW"
      },
      "outputs": [],
      "source": [
        "loan = read.csv('/content/Loans_Training.csv')"
      ]
    },
    {
      "cell_type": "code",
      "source": [
        "loan"
      ],
      "metadata": {
        "colab": {
          "base_uri": "https://localhost:8080/",
          "height": 1000
        },
        "id": "WMvFPDg71OCE",
        "outputId": "0dd06a1f-0a52-44d3-b19e-24356b976d93"
      },
      "execution_count": null,
      "outputs": [
        {
          "output_type": "display_data",
          "data": {
            "text/html": [
              "<table class=\"dataframe\">\n",
              "<caption>A data.frame: 150302 × 5</caption>\n",
              "<thead>\n",
              "\t<tr><th scope=col>Approval</th><th scope=col>Debt.to.Income.Ratio</th><th scope=col>FICO.Score</th><th scope=col>Request.Amount</th><th scope=col>Interest</th></tr>\n",
              "\t<tr><th scope=col>&lt;lgl&gt;</th><th scope=col>&lt;dbl&gt;</th><th scope=col>&lt;int&gt;</th><th scope=col>&lt;int&gt;</th><th scope=col>&lt;dbl&gt;</th></tr>\n",
              "</thead>\n",
              "<tbody>\n",
              "\t<tr><td>FALSE</td><td>0</td><td>397</td><td> 1000</td><td>  450</td></tr>\n",
              "\t<tr><td>FALSE</td><td>0</td><td>403</td><td>  500</td><td>  225</td></tr>\n",
              "\t<tr><td>FALSE</td><td>0</td><td>408</td><td> 1000</td><td>  450</td></tr>\n",
              "\t<tr><td>FALSE</td><td>0</td><td>408</td><td> 2000</td><td>  900</td></tr>\n",
              "\t<tr><td>FALSE</td><td>0</td><td>411</td><td> 5000</td><td> 2250</td></tr>\n",
              "\t<tr><td>FALSE</td><td>0</td><td>413</td><td> 5000</td><td> 2250</td></tr>\n",
              "\t<tr><td>FALSE</td><td>0</td><td>416</td><td> 6000</td><td> 2700</td></tr>\n",
              "\t<tr><td>FALSE</td><td>0</td><td>421</td><td> 2000</td><td>  900</td></tr>\n",
              "\t<tr><td>FALSE</td><td>0</td><td>422</td><td>12000</td><td> 5400</td></tr>\n",
              "\t<tr><td>FALSE</td><td>0</td><td>432</td><td>10000</td><td> 4500</td></tr>\n",
              "\t<tr><td>FALSE</td><td>0</td><td>433</td><td> 6000</td><td> 2700</td></tr>\n",
              "\t<tr><td>FALSE</td><td>0</td><td>434</td><td> 1000</td><td>  450</td></tr>\n",
              "\t<tr><td>FALSE</td><td>0</td><td>434</td><td>19000</td><td> 8550</td></tr>\n",
              "\t<tr><td>FALSE</td><td>0</td><td>435</td><td> 3000</td><td> 1350</td></tr>\n",
              "\t<tr><td>FALSE</td><td>0</td><td>436</td><td> 6000</td><td> 2700</td></tr>\n",
              "\t<tr><td>FALSE</td><td>0</td><td>438</td><td> 5000</td><td> 2250</td></tr>\n",
              "\t<tr><td>FALSE</td><td>0</td><td>439</td><td> 1000</td><td>  450</td></tr>\n",
              "\t<tr><td>FALSE</td><td>0</td><td>440</td><td> 3000</td><td> 1350</td></tr>\n",
              "\t<tr><td>FALSE</td><td>0</td><td>440</td><td>10000</td><td> 4500</td></tr>\n",
              "\t<tr><td>FALSE</td><td>0</td><td>442</td><td> 1000</td><td>  450</td></tr>\n",
              "\t<tr><td>FALSE</td><td>0</td><td>447</td><td> 2000</td><td>  900</td></tr>\n",
              "\t<tr><td>FALSE</td><td>0</td><td>448</td><td> 1000</td><td>  450</td></tr>\n",
              "\t<tr><td>FALSE</td><td>0</td><td>448</td><td> 5000</td><td> 2250</td></tr>\n",
              "\t<tr><td>FALSE</td><td>0</td><td>448</td><td> 7000</td><td> 3150</td></tr>\n",
              "\t<tr><td>FALSE</td><td>0</td><td>449</td><td> 2000</td><td>  900</td></tr>\n",
              "\t<tr><td>FALSE</td><td>0</td><td>450</td><td>24000</td><td>10800</td></tr>\n",
              "\t<tr><td>FALSE</td><td>0</td><td>451</td><td>  500</td><td>  225</td></tr>\n",
              "\t<tr><td>FALSE</td><td>0</td><td>451</td><td> 2000</td><td>  900</td></tr>\n",
              "\t<tr><td>FALSE</td><td>0</td><td>452</td><td> 1000</td><td>  450</td></tr>\n",
              "\t<tr><td>FALSE</td><td>0</td><td>452</td><td> 9000</td><td> 4050</td></tr>\n",
              "\t<tr><td>⋮</td><td>⋮</td><td>⋮</td><td>⋮</td><td>⋮</td></tr>\n",
              "\t<tr><td>TRUE</td><td>0.37</td><td>689</td><td> 5000</td><td> 2250</td></tr>\n",
              "\t<tr><td>TRUE</td><td>0.37</td><td>689</td><td>12000</td><td> 5400</td></tr>\n",
              "\t<tr><td>TRUE</td><td>0.37</td><td>689</td><td>17000</td><td> 7650</td></tr>\n",
              "\t<tr><td>TRUE</td><td>0.37</td><td>691</td><td> 9000</td><td> 4050</td></tr>\n",
              "\t<tr><td>TRUE</td><td>0.37</td><td>692</td><td> 6000</td><td> 2700</td></tr>\n",
              "\t<tr><td>TRUE</td><td>0.37</td><td>696</td><td>27000</td><td>12150</td></tr>\n",
              "\t<tr><td>TRUE</td><td>0.37</td><td>696</td><td>33000</td><td>14850</td></tr>\n",
              "\t<tr><td>TRUE</td><td>0.37</td><td>698</td><td> 6000</td><td> 2700</td></tr>\n",
              "\t<tr><td>TRUE</td><td>0.37</td><td>700</td><td> 6000</td><td> 2700</td></tr>\n",
              "\t<tr><td>TRUE</td><td>0.37</td><td>703</td><td> 2000</td><td>  900</td></tr>\n",
              "\t<tr><td>TRUE</td><td>0.37</td><td>706</td><td>21000</td><td> 9450</td></tr>\n",
              "\t<tr><td>TRUE</td><td>0.37</td><td>711</td><td>10000</td><td> 4500</td></tr>\n",
              "\t<tr><td>TRUE</td><td>0.37</td><td>713</td><td> 9000</td><td> 4050</td></tr>\n",
              "\t<tr><td>TRUE</td><td>0.37</td><td>714</td><td>17000</td><td> 7650</td></tr>\n",
              "\t<tr><td>TRUE</td><td>0.37</td><td>741</td><td>13000</td><td> 5850</td></tr>\n",
              "\t<tr><td>TRUE</td><td>0.37</td><td>742</td><td>16000</td><td> 7200</td></tr>\n",
              "\t<tr><td>TRUE</td><td>0.37</td><td>745</td><td> 9000</td><td> 4050</td></tr>\n",
              "\t<tr><td>TRUE</td><td>0.37</td><td>771</td><td> 5000</td><td> 2250</td></tr>\n",
              "\t<tr><td>TRUE</td><td>0.38</td><td>671</td><td> 4000</td><td> 1800</td></tr>\n",
              "\t<tr><td>TRUE</td><td>0.38</td><td>679</td><td>17000</td><td> 7650</td></tr>\n",
              "\t<tr><td>TRUE</td><td>0.38</td><td>686</td><td> 3000</td><td> 1350</td></tr>\n",
              "\t<tr><td>TRUE</td><td>0.38</td><td>689</td><td>16000</td><td> 7200</td></tr>\n",
              "\t<tr><td>TRUE</td><td>0.38</td><td>698</td><td>35000</td><td>15750</td></tr>\n",
              "\t<tr><td>TRUE</td><td>0.38</td><td>703</td><td>  500</td><td>  225</td></tr>\n",
              "\t<tr><td>TRUE</td><td>0.38</td><td>706</td><td>12000</td><td> 5400</td></tr>\n",
              "\t<tr><td>TRUE</td><td>0.38</td><td>709</td><td>19000</td><td> 8550</td></tr>\n",
              "\t<tr><td>TRUE</td><td>0.38</td><td>722</td><td>17000</td><td> 7650</td></tr>\n",
              "\t<tr><td>TRUE</td><td>0.38</td><td>747</td><td>11000</td><td> 4950</td></tr>\n",
              "\t<tr><td>TRUE</td><td>0.39</td><td>679</td><td>10000</td><td> 4500</td></tr>\n",
              "\t<tr><td>TRUE</td><td>0.39</td><td>769</td><td> 7000</td><td> 3150</td></tr>\n",
              "</tbody>\n",
              "</table>\n"
            ],
            "text/markdown": "\nA data.frame: 150302 × 5\n\n| Approval &lt;lgl&gt; | Debt.to.Income.Ratio &lt;dbl&gt; | FICO.Score &lt;int&gt; | Request.Amount &lt;int&gt; | Interest &lt;dbl&gt; |\n|---|---|---|---|---|\n| FALSE | 0 | 397 |  1000 |   450 |\n| FALSE | 0 | 403 |   500 |   225 |\n| FALSE | 0 | 408 |  1000 |   450 |\n| FALSE | 0 | 408 |  2000 |   900 |\n| FALSE | 0 | 411 |  5000 |  2250 |\n| FALSE | 0 | 413 |  5000 |  2250 |\n| FALSE | 0 | 416 |  6000 |  2700 |\n| FALSE | 0 | 421 |  2000 |   900 |\n| FALSE | 0 | 422 | 12000 |  5400 |\n| FALSE | 0 | 432 | 10000 |  4500 |\n| FALSE | 0 | 433 |  6000 |  2700 |\n| FALSE | 0 | 434 |  1000 |   450 |\n| FALSE | 0 | 434 | 19000 |  8550 |\n| FALSE | 0 | 435 |  3000 |  1350 |\n| FALSE | 0 | 436 |  6000 |  2700 |\n| FALSE | 0 | 438 |  5000 |  2250 |\n| FALSE | 0 | 439 |  1000 |   450 |\n| FALSE | 0 | 440 |  3000 |  1350 |\n| FALSE | 0 | 440 | 10000 |  4500 |\n| FALSE | 0 | 442 |  1000 |   450 |\n| FALSE | 0 | 447 |  2000 |   900 |\n| FALSE | 0 | 448 |  1000 |   450 |\n| FALSE | 0 | 448 |  5000 |  2250 |\n| FALSE | 0 | 448 |  7000 |  3150 |\n| FALSE | 0 | 449 |  2000 |   900 |\n| FALSE | 0 | 450 | 24000 | 10800 |\n| FALSE | 0 | 451 |   500 |   225 |\n| FALSE | 0 | 451 |  2000 |   900 |\n| FALSE | 0 | 452 |  1000 |   450 |\n| FALSE | 0 | 452 |  9000 |  4050 |\n| ⋮ | ⋮ | ⋮ | ⋮ | ⋮ |\n| TRUE | 0.37 | 689 |  5000 |  2250 |\n| TRUE | 0.37 | 689 | 12000 |  5400 |\n| TRUE | 0.37 | 689 | 17000 |  7650 |\n| TRUE | 0.37 | 691 |  9000 |  4050 |\n| TRUE | 0.37 | 692 |  6000 |  2700 |\n| TRUE | 0.37 | 696 | 27000 | 12150 |\n| TRUE | 0.37 | 696 | 33000 | 14850 |\n| TRUE | 0.37 | 698 |  6000 |  2700 |\n| TRUE | 0.37 | 700 |  6000 |  2700 |\n| TRUE | 0.37 | 703 |  2000 |   900 |\n| TRUE | 0.37 | 706 | 21000 |  9450 |\n| TRUE | 0.37 | 711 | 10000 |  4500 |\n| TRUE | 0.37 | 713 |  9000 |  4050 |\n| TRUE | 0.37 | 714 | 17000 |  7650 |\n| TRUE | 0.37 | 741 | 13000 |  5850 |\n| TRUE | 0.37 | 742 | 16000 |  7200 |\n| TRUE | 0.37 | 745 |  9000 |  4050 |\n| TRUE | 0.37 | 771 |  5000 |  2250 |\n| TRUE | 0.38 | 671 |  4000 |  1800 |\n| TRUE | 0.38 | 679 | 17000 |  7650 |\n| TRUE | 0.38 | 686 |  3000 |  1350 |\n| TRUE | 0.38 | 689 | 16000 |  7200 |\n| TRUE | 0.38 | 698 | 35000 | 15750 |\n| TRUE | 0.38 | 703 |   500 |   225 |\n| TRUE | 0.38 | 706 | 12000 |  5400 |\n| TRUE | 0.38 | 709 | 19000 |  8550 |\n| TRUE | 0.38 | 722 | 17000 |  7650 |\n| TRUE | 0.38 | 747 | 11000 |  4950 |\n| TRUE | 0.39 | 679 | 10000 |  4500 |\n| TRUE | 0.39 | 769 |  7000 |  3150 |\n\n",
            "text/latex": "A data.frame: 150302 × 5\n\\begin{tabular}{lllll}\n Approval & Debt.to.Income.Ratio & FICO.Score & Request.Amount & Interest\\\\\n <lgl> & <dbl> & <int> & <int> & <dbl>\\\\\n\\hline\n\t FALSE & 0 & 397 &  1000 &   450\\\\\n\t FALSE & 0 & 403 &   500 &   225\\\\\n\t FALSE & 0 & 408 &  1000 &   450\\\\\n\t FALSE & 0 & 408 &  2000 &   900\\\\\n\t FALSE & 0 & 411 &  5000 &  2250\\\\\n\t FALSE & 0 & 413 &  5000 &  2250\\\\\n\t FALSE & 0 & 416 &  6000 &  2700\\\\\n\t FALSE & 0 & 421 &  2000 &   900\\\\\n\t FALSE & 0 & 422 & 12000 &  5400\\\\\n\t FALSE & 0 & 432 & 10000 &  4500\\\\\n\t FALSE & 0 & 433 &  6000 &  2700\\\\\n\t FALSE & 0 & 434 &  1000 &   450\\\\\n\t FALSE & 0 & 434 & 19000 &  8550\\\\\n\t FALSE & 0 & 435 &  3000 &  1350\\\\\n\t FALSE & 0 & 436 &  6000 &  2700\\\\\n\t FALSE & 0 & 438 &  5000 &  2250\\\\\n\t FALSE & 0 & 439 &  1000 &   450\\\\\n\t FALSE & 0 & 440 &  3000 &  1350\\\\\n\t FALSE & 0 & 440 & 10000 &  4500\\\\\n\t FALSE & 0 & 442 &  1000 &   450\\\\\n\t FALSE & 0 & 447 &  2000 &   900\\\\\n\t FALSE & 0 & 448 &  1000 &   450\\\\\n\t FALSE & 0 & 448 &  5000 &  2250\\\\\n\t FALSE & 0 & 448 &  7000 &  3150\\\\\n\t FALSE & 0 & 449 &  2000 &   900\\\\\n\t FALSE & 0 & 450 & 24000 & 10800\\\\\n\t FALSE & 0 & 451 &   500 &   225\\\\\n\t FALSE & 0 & 451 &  2000 &   900\\\\\n\t FALSE & 0 & 452 &  1000 &   450\\\\\n\t FALSE & 0 & 452 &  9000 &  4050\\\\\n\t ⋮ & ⋮ & ⋮ & ⋮ & ⋮\\\\\n\t TRUE & 0.37 & 689 &  5000 &  2250\\\\\n\t TRUE & 0.37 & 689 & 12000 &  5400\\\\\n\t TRUE & 0.37 & 689 & 17000 &  7650\\\\\n\t TRUE & 0.37 & 691 &  9000 &  4050\\\\\n\t TRUE & 0.37 & 692 &  6000 &  2700\\\\\n\t TRUE & 0.37 & 696 & 27000 & 12150\\\\\n\t TRUE & 0.37 & 696 & 33000 & 14850\\\\\n\t TRUE & 0.37 & 698 &  6000 &  2700\\\\\n\t TRUE & 0.37 & 700 &  6000 &  2700\\\\\n\t TRUE & 0.37 & 703 &  2000 &   900\\\\\n\t TRUE & 0.37 & 706 & 21000 &  9450\\\\\n\t TRUE & 0.37 & 711 & 10000 &  4500\\\\\n\t TRUE & 0.37 & 713 &  9000 &  4050\\\\\n\t TRUE & 0.37 & 714 & 17000 &  7650\\\\\n\t TRUE & 0.37 & 741 & 13000 &  5850\\\\\n\t TRUE & 0.37 & 742 & 16000 &  7200\\\\\n\t TRUE & 0.37 & 745 &  9000 &  4050\\\\\n\t TRUE & 0.37 & 771 &  5000 &  2250\\\\\n\t TRUE & 0.38 & 671 &  4000 &  1800\\\\\n\t TRUE & 0.38 & 679 & 17000 &  7650\\\\\n\t TRUE & 0.38 & 686 &  3000 &  1350\\\\\n\t TRUE & 0.38 & 689 & 16000 &  7200\\\\\n\t TRUE & 0.38 & 698 & 35000 & 15750\\\\\n\t TRUE & 0.38 & 703 &   500 &   225\\\\\n\t TRUE & 0.38 & 706 & 12000 &  5400\\\\\n\t TRUE & 0.38 & 709 & 19000 &  8550\\\\\n\t TRUE & 0.38 & 722 & 17000 &  7650\\\\\n\t TRUE & 0.38 & 747 & 11000 &  4950\\\\\n\t TRUE & 0.39 & 679 & 10000 &  4500\\\\\n\t TRUE & 0.39 & 769 &  7000 &  3150\\\\\n\\end{tabular}\n",
            "text/plain": [
              "       Approval Debt.to.Income.Ratio FICO.Score Request.Amount Interest\n",
              "1      FALSE    0                    397         1000            450   \n",
              "2      FALSE    0                    403          500            225   \n",
              "3      FALSE    0                    408         1000            450   \n",
              "4      FALSE    0                    408         2000            900   \n",
              "5      FALSE    0                    411         5000           2250   \n",
              "6      FALSE    0                    413         5000           2250   \n",
              "7      FALSE    0                    416         6000           2700   \n",
              "8      FALSE    0                    421         2000            900   \n",
              "9      FALSE    0                    422        12000           5400   \n",
              "10     FALSE    0                    432        10000           4500   \n",
              "11     FALSE    0                    433         6000           2700   \n",
              "12     FALSE    0                    434         1000            450   \n",
              "13     FALSE    0                    434        19000           8550   \n",
              "14     FALSE    0                    435         3000           1350   \n",
              "15     FALSE    0                    436         6000           2700   \n",
              "16     FALSE    0                    438         5000           2250   \n",
              "17     FALSE    0                    439         1000            450   \n",
              "18     FALSE    0                    440         3000           1350   \n",
              "19     FALSE    0                    440        10000           4500   \n",
              "20     FALSE    0                    442         1000            450   \n",
              "21     FALSE    0                    447         2000            900   \n",
              "22     FALSE    0                    448         1000            450   \n",
              "23     FALSE    0                    448         5000           2250   \n",
              "24     FALSE    0                    448         7000           3150   \n",
              "25     FALSE    0                    449         2000            900   \n",
              "26     FALSE    0                    450        24000          10800   \n",
              "27     FALSE    0                    451          500            225   \n",
              "28     FALSE    0                    451         2000            900   \n",
              "29     FALSE    0                    452         1000            450   \n",
              "30     FALSE    0                    452         9000           4050   \n",
              "⋮      ⋮        ⋮                    ⋮          ⋮              ⋮       \n",
              "150273 TRUE     0.37                 689         5000           2250   \n",
              "150274 TRUE     0.37                 689        12000           5400   \n",
              "150275 TRUE     0.37                 689        17000           7650   \n",
              "150276 TRUE     0.37                 691         9000           4050   \n",
              "150277 TRUE     0.37                 692         6000           2700   \n",
              "150278 TRUE     0.37                 696        27000          12150   \n",
              "150279 TRUE     0.37                 696        33000          14850   \n",
              "150280 TRUE     0.37                 698         6000           2700   \n",
              "150281 TRUE     0.37                 700         6000           2700   \n",
              "150282 TRUE     0.37                 703         2000            900   \n",
              "150283 TRUE     0.37                 706        21000           9450   \n",
              "150284 TRUE     0.37                 711        10000           4500   \n",
              "150285 TRUE     0.37                 713         9000           4050   \n",
              "150286 TRUE     0.37                 714        17000           7650   \n",
              "150287 TRUE     0.37                 741        13000           5850   \n",
              "150288 TRUE     0.37                 742        16000           7200   \n",
              "150289 TRUE     0.37                 745         9000           4050   \n",
              "150290 TRUE     0.37                 771         5000           2250   \n",
              "150291 TRUE     0.38                 671         4000           1800   \n",
              "150292 TRUE     0.38                 679        17000           7650   \n",
              "150293 TRUE     0.38                 686         3000           1350   \n",
              "150294 TRUE     0.38                 689        16000           7200   \n",
              "150295 TRUE     0.38                 698        35000          15750   \n",
              "150296 TRUE     0.38                 703          500            225   \n",
              "150297 TRUE     0.38                 706        12000           5400   \n",
              "150298 TRUE     0.38                 709        19000           8550   \n",
              "150299 TRUE     0.38                 722        17000           7650   \n",
              "150300 TRUE     0.38                 747        11000           4950   \n",
              "150301 TRUE     0.39                 679        10000           4500   \n",
              "150302 TRUE     0.39                 769         7000           3150   "
            ]
          },
          "metadata": {}
        }
      ]
    },
    {
      "cell_type": "code",
      "source": [
        "dim(loan)"
      ],
      "metadata": {
        "colab": {
          "base_uri": "https://localhost:8080/",
          "height": 34
        },
        "id": "9L-_Xe7c1OHp",
        "outputId": "663d00df-ac86-4192-9596-1b53777e61de"
      },
      "execution_count": null,
      "outputs": [
        {
          "output_type": "display_data",
          "data": {
            "text/html": [
              "<style>\n",
              ".list-inline {list-style: none; margin:0; padding: 0}\n",
              ".list-inline>li {display: inline-block}\n",
              ".list-inline>li:not(:last-child)::after {content: \"\\00b7\"; padding: 0 .5ex}\n",
              "</style>\n",
              "<ol class=list-inline><li>150302</li><li>5</li></ol>\n"
            ],
            "text/markdown": "1. 150302\n2. 5\n\n\n",
            "text/latex": "\\begin{enumerate*}\n\\item 150302\n\\item 5\n\\end{enumerate*}\n",
            "text/plain": [
              "[1] 150302      5"
            ]
          },
          "metadata": {}
        }
      ]
    },
    {
      "cell_type": "code",
      "source": [
        "prop.table(table(loan$Approval))"
      ],
      "metadata": {
        "colab": {
          "base_uri": "https://localhost:8080/",
          "height": 69
        },
        "id": "BEWav2Ay1ONQ",
        "outputId": "4e52ad85-ec4e-4c6f-81ea-3fbcab2d2838"
      },
      "execution_count": null,
      "outputs": [
        {
          "output_type": "display_data",
          "data": {
            "text/plain": [
              "\n",
              "    FALSE      TRUE \n",
              "0.4994345 0.5005655 "
            ]
          },
          "metadata": {}
        }
      ]
    },
    {
      "cell_type": "code",
      "source": [
        "install.packages(\"rpart.plot\")\n",
        "install.packages(\"rattle\")"
      ],
      "metadata": {
        "colab": {
          "base_uri": "https://localhost:8080/"
        },
        "id": "wxNfj8OL37eO",
        "outputId": "8d86d056-6e19-4048-8f17-bd71e2c93203"
      },
      "execution_count": null,
      "outputs": [
        {
          "output_type": "stream",
          "name": "stderr",
          "text": [
            "Installing package into ‘/usr/local/lib/R/site-library’\n",
            "(as ‘lib’ is unspecified)\n",
            "\n",
            "Installing package into ‘/usr/local/lib/R/site-library’\n",
            "(as ‘lib’ is unspecified)\n",
            "\n",
            "also installing the dependencies ‘bitops’, ‘XML’\n",
            "\n",
            "\n"
          ]
        }
      ]
    },
    {
      "cell_type": "code",
      "source": [
        "library(rpart)\n",
        "library(rpart.plot)\n",
        "library(rattle)\n",
        "\n",
        "\n",
        "rpart_obj = rpart.control(minsplit=100, minbucket=10, cp=0, xval=10)\n"
      ],
      "metadata": {
        "id": "s4YCMcIL3DEb"
      },
      "execution_count": null,
      "outputs": []
    },
    {
      "cell_type": "code",
      "source": [
        "rpart.plot(rpart_obj, type=3, digits=3, fallen.leaves=True)"
      ],
      "metadata": {
        "colab": {
          "base_uri": "https://localhost:8080/",
          "height": 148
        },
        "id": "UfWk4X-Z4OAe",
        "outputId": "ae638b90-e893-4283-e2f4-837d963bc2e5"
      },
      "execution_count": null,
      "outputs": [
        {
          "output_type": "error",
          "ename": "ERROR",
          "evalue": "ignored",
          "traceback": [
            "Error in rpart.plot(rpart_obj, type = 3, digits = 3, fallen.leaves = True): Not an rpart object\nTraceback:\n",
            "1. rpart.plot(rpart_obj, type = 3, digits = 3, fallen.leaves = True)",
            "2. stop(\"Not an rpart object\")"
          ]
        }
      ]
    },
    {
      "cell_type": "code",
      "source": [
        ""
      ],
      "metadata": {
        "id": "X0kQ1S5z5WND"
      },
      "execution_count": null,
      "outputs": []
    }
  ]
}