{
  "nbformat": 4,
  "nbformat_minor": 0,
  "metadata": {
    "colab": {
      "name": "HW5prob1.r",
      "provenance": [],
      "collapsed_sections": [],
      "authorship_tag": "ABX9TyNdLM0BF2QYum1qBudcyT0S",
      "include_colab_link": true
    },
    "kernelspec": {
      "name": "ir",
      "display_name": "R"
    },
    "language_info": {
      "name": "R"
    }
  },
  "cells": [
    {
      "cell_type": "markdown",
      "metadata": {
        "id": "view-in-github",
        "colab_type": "text"
      },
      "source": [
        "<a href=\"https://colab.research.google.com/github/yash1908/IDS/blob/main/HW5/HW5prob1_r.ipynb\" target=\"_parent\"><img src=\"https://colab.research.google.com/assets/colab-badge.svg\" alt=\"Open In Colab\"/></a>"
      ]
    },
    {
      "cell_type": "code",
      "execution_count": 1,
      "metadata": {
        "id": "JcapvrvVlryD"
      },
      "outputs": [],
      "source": [
        "path <- \"https://raw.githubusercontent.com/bforoura/AML/master/Company_data.csv\""
      ]
    },
    {
      "cell_type": "code",
      "source": [
        "companyDF<- read.csv(path)"
      ],
      "metadata": {
        "id": "CRmsh96zlx9h"
      },
      "execution_count": 2,
      "outputs": []
    },
    {
      "cell_type": "code",
      "source": [
        "head(companyDF,n=5)"
      ],
      "metadata": {
        "colab": {
          "base_uri": "https://localhost:8080/",
          "height": 255
        },
        "id": "pCNzh9znmBMo",
        "outputId": "df78ffd2-e256-4b07-b325-6748b33e40e1"
      },
      "execution_count": 3,
      "outputs": [
        {
          "output_type": "display_data",
          "data": {
            "text/html": [
              "<table class=\"dataframe\">\n",
              "<caption>A data.frame: 5 × 4</caption>\n",
              "<thead>\n",
              "\t<tr><th></th><th scope=col>TV</th><th scope=col>Radio</th><th scope=col>Newspaper</th><th scope=col>Sales</th></tr>\n",
              "\t<tr><th></th><th scope=col>&lt;dbl&gt;</th><th scope=col>&lt;dbl&gt;</th><th scope=col>&lt;dbl&gt;</th><th scope=col>&lt;dbl&gt;</th></tr>\n",
              "</thead>\n",
              "<tbody>\n",
              "\t<tr><th scope=row>1</th><td>230.1</td><td>37.8</td><td>69.2</td><td>22.1</td></tr>\n",
              "\t<tr><th scope=row>2</th><td> 44.5</td><td>39.3</td><td>45.1</td><td>10.4</td></tr>\n",
              "\t<tr><th scope=row>3</th><td> 17.2</td><td>45.9</td><td>69.3</td><td>12.0</td></tr>\n",
              "\t<tr><th scope=row>4</th><td>151.5</td><td>41.3</td><td>58.5</td><td>16.5</td></tr>\n",
              "\t<tr><th scope=row>5</th><td>180.8</td><td>10.8</td><td>58.4</td><td>17.9</td></tr>\n",
              "</tbody>\n",
              "</table>\n"
            ],
            "text/markdown": "\nA data.frame: 5 × 4\n\n| <!--/--> | TV &lt;dbl&gt; | Radio &lt;dbl&gt; | Newspaper &lt;dbl&gt; | Sales &lt;dbl&gt; |\n|---|---|---|---|---|\n| 1 | 230.1 | 37.8 | 69.2 | 22.1 |\n| 2 |  44.5 | 39.3 | 45.1 | 10.4 |\n| 3 |  17.2 | 45.9 | 69.3 | 12.0 |\n| 4 | 151.5 | 41.3 | 58.5 | 16.5 |\n| 5 | 180.8 | 10.8 | 58.4 | 17.9 |\n\n",
            "text/latex": "A data.frame: 5 × 4\n\\begin{tabular}{r|llll}\n  & TV & Radio & Newspaper & Sales\\\\\n  & <dbl> & <dbl> & <dbl> & <dbl>\\\\\n\\hline\n\t1 & 230.1 & 37.8 & 69.2 & 22.1\\\\\n\t2 &  44.5 & 39.3 & 45.1 & 10.4\\\\\n\t3 &  17.2 & 45.9 & 69.3 & 12.0\\\\\n\t4 & 151.5 & 41.3 & 58.5 & 16.5\\\\\n\t5 & 180.8 & 10.8 & 58.4 & 17.9\\\\\n\\end{tabular}\n",
            "text/plain": [
              "  TV    Radio Newspaper Sales\n",
              "1 230.1 37.8  69.2      22.1 \n",
              "2  44.5 39.3  45.1      10.4 \n",
              "3  17.2 45.9  69.3      12.0 \n",
              "4 151.5 41.3  58.5      16.5 \n",
              "5 180.8 10.8  58.4      17.9 "
            ]
          },
          "metadata": {}
        }
      ]
    },
    {
      "cell_type": "code",
      "source": [
        "corr_matrix <- cor(companyDF)"
      ],
      "metadata": {
        "id": "CHHaOXZPnM_m"
      },
      "execution_count": 8,
      "outputs": []
    },
    {
      "cell_type": "code",
      "source": [
        "install.packages(\"corrplot\")"
      ],
      "metadata": {
        "colab": {
          "base_uri": "https://localhost:8080/"
        },
        "id": "Q8z_kLBhsoYm",
        "outputId": "ec95454d-7551-4261-8427-4922e25cf5de"
      },
      "execution_count": 21,
      "outputs": [
        {
          "output_type": "stream",
          "name": "stderr",
          "text": [
            "Installing package into ‘/usr/local/lib/R/site-library’\n",
            "(as ‘lib’ is unspecified)\n",
            "\n"
          ]
        }
      ]
    },
    {
      "cell_type": "code",
      "source": [
        "library(\"corrplot\")"
      ],
      "metadata": {
        "colab": {
          "base_uri": "https://localhost:8080/"
        },
        "id": "Etwz_McFszQi",
        "outputId": "d02007c7-02b0-49e5-bbc4-48fa779c53c2"
      },
      "execution_count": 22,
      "outputs": [
        {
          "output_type": "stream",
          "name": "stderr",
          "text": [
            "corrplot 0.92 loaded\n",
            "\n"
          ]
        }
      ]
    },
    {
      "cell_type": "code",
      "source": [
        "corr_matrix['Sales'].sort_values(ascending=True)"
      ],
      "metadata": {
        "id": "Rnmzo9uEnWJJ"
      },
      "execution_count": null,
      "outputs": []
    },
    {
      "cell_type": "code",
      "source": [
        "boxplot(companyDF)"
      ],
      "metadata": {
        "colab": {
          "base_uri": "https://localhost:8080/",
          "height": 437
        },
        "id": "5TvvovAsruUj",
        "outputId": "01efc37a-02b2-4f63-b916-1e798d6a6acb"
      },
      "execution_count": 16,
      "outputs": [
        {
          "output_type": "display_data",
          "data": {
            "text/plain": [
              "plot without title"
            ],
            "image/png": "[encoded data removed]"
          },
          "metadata": {
            "image/png": {
              "width": 420,
              "height": 420
            }
          }
        }
      ]
    },
    {
      "cell_type": "code",
      "source": [
        "install.packages(\"Hmisc\")"
      ],
      "metadata": {
        "colab": {
          "base_uri": "https://localhost:8080/"
        },
        "id": "N5KF95lDpfUy",
        "outputId": "934db34d-07ca-41fc-f64e-253e76f94228"
      },
      "execution_count": 13,
      "outputs": [
        {
          "output_type": "stream",
          "name": "stderr",
          "text": [
            "Installing package into ‘/usr/local/lib/R/site-library’\n",
            "(as ‘lib’ is unspecified)\n",
            "\n",
            "also installing the dependencies ‘png’, ‘jpeg’, ‘checkmate’, ‘htmlwidgets’, ‘Formula’, ‘latticeExtra’, ‘gridExtra’, ‘htmlTable’, ‘viridis’\n",
            "\n",
            "\n"
          ]
        }
      ]
    },
    {
      "cell_type": "code",
      "source": [
        "library(\"Hmisc\")"
      ],
      "metadata": {
        "colab": {
          "base_uri": "https://localhost:8080/"
        },
        "id": "EKVght4itUoO",
        "outputId": "53ae2d78-a4ca-45ed-a3e9-40a8745e085c"
      },
      "execution_count": 27,
      "outputs": [
        {
          "output_type": "stream",
          "name": "stderr",
          "text": [
            "Loading required package: lattice\n",
            "\n",
            "Loading required package: survival\n",
            "\n",
            "Loading required package: Formula\n",
            "\n",
            "Loading required package: ggplot2\n",
            "\n",
            "\n",
            "Attaching package: ‘Hmisc’\n",
            "\n",
            "\n",
            "The following objects are masked from ‘package:base’:\n",
            "\n",
            "    format.pval, units\n",
            "\n",
            "\n"
          ]
        }
      ]
    },
    {
      "cell_type": "code",
      "source": [
        "sns.distplot(companyDF[\"Sales\"], kde=True)"
      ],
      "metadata": {
        "id": "n5WEsc7zrycq"
      },
      "execution_count": null,
      "outputs": []
    },
    {
      "cell_type": "code",
      "source": [
        "sum(is.na(companyDF))"
      ],
      "metadata": {
        "colab": {
          "base_uri": "https://localhost:8080/",
          "height": 34
        },
        "id": "AHv2EV3CsBKE",
        "outputId": "9ea384a5-ee0a-41e9-affa-9b5500d10a6e"
      },
      "execution_count": 18,
      "outputs": [
        {
          "output_type": "display_data",
          "data": {
            "text/html": [
              "0"
            ],
            "text/markdown": "0",
            "text/latex": "0",
            "text/plain": [
              "[1] 0"
            ]
          },
          "metadata": {}
        }
      ]
    },
    {
      "cell_type": "code",
      "source": [
        "sns.pairplot(companyDF, x_vars=['TV', 'Radio','Newspaper'],y_vars='Sales',height=4,aspect=1,kind='scatter')"
      ],
      "metadata": {
        "id": "5jawMbh0sEfg"
      },
      "execution_count": null,
      "outputs": []
    },
    {
      "cell_type": "code",
      "source": [
        "install.packages(\"ggplot2\")\n",
        "install.packages(\"dplyr\")\n",
        "install.packages(\"broom\")\n",
        "install.packages(\"ggpubr\")"
      ],
      "metadata": {
        "colab": {
          "base_uri": "https://localhost:8080/"
        },
        "id": "-xwmKYFW06a0",
        "outputId": "7d7d1878-1fe2-4740-a792-0300194fb9dc"
      },
      "execution_count": 37,
      "outputs": [
        {
          "output_type": "stream",
          "name": "stderr",
          "text": [
            "Installing package into ‘/usr/local/lib/R/site-library’\n",
            "(as ‘lib’ is unspecified)\n",
            "\n",
            "Installing package into ‘/usr/local/lib/R/site-library’\n",
            "(as ‘lib’ is unspecified)\n",
            "\n",
            "Installing package into ‘/usr/local/lib/R/site-library’\n",
            "(as ‘lib’ is unspecified)\n",
            "\n",
            "Installing package into ‘/usr/local/lib/R/site-library’\n",
            "(as ‘lib’ is unspecified)\n",
            "\n",
            "also installing the dependencies ‘numDeriv’, ‘SparseM’, ‘MatrixModels’, ‘sp’, ‘minqa’, ‘nloptr’, ‘RcppEigen’, ‘carData’, ‘abind’, ‘pbkrtest’, ‘quantreg’, ‘maptools’, ‘lme4’, ‘car’, ‘ggrepel’, ‘ggsci’, ‘cowplot’, ‘ggsignif’, ‘polynom’, ‘rstatix’\n",
            "\n",
            "\n",
            "Warning message in install.packages(\"ggpubr\"):\n",
            "“installation of package ‘nloptr’ had non-zero exit status”\n",
            "Warning message in install.packages(\"ggpubr\"):\n",
            "“installation of package ‘lme4’ had non-zero exit status”\n",
            "Warning message in install.packages(\"ggpubr\"):\n",
            "“installation of package ‘pbkrtest’ had non-zero exit status”\n",
            "Warning message in install.packages(\"ggpubr\"):\n",
            "“installation of package ‘car’ had non-zero exit status”\n",
            "Warning message in install.packages(\"ggpubr\"):\n",
            "“installation of package ‘rstatix’ had non-zero exit status”\n",
            "Warning message in install.packages(\"ggpubr\"):\n",
            "“installation of package ‘ggpubr’ had non-zero exit status”\n"
          ]
        }
      ]
    },
    {
      "cell_type": "code",
      "source": [
        "library(ggplot2)\n",
        "library(broom)\n"
      ],
      "metadata": {
        "id": "VYdAgFgj8NJR"
      },
      "execution_count": 42,
      "outputs": []
    },
    {
      "cell_type": "code",
      "source": [
        "summary(income.data)"
      ],
      "metadata": {
        "id": "67-mWqGa8kES"
      },
      "execution_count": null,
      "outputs": []
    },
    {
      "cell_type": "code",
      "source": [
        "\n",
        "companyDF.graph<-ggplot(income.data, aes(x=TV.Radio.Newspaper, y=Sales))+\n",
        "                     geom_point()\n",
        "companyDF.graph"
      ],
      "metadata": {
        "id": "0yYh0gLO-RXD"
      },
      "execution_count": null,
      "outputs": []
    },
    {
      "cell_type": "code",
      "source": [
        "x <- dataFrame$TV\n",
        "y <- dataFrame$Sales\n",
        "plot(x, y)"
      ],
      "metadata": {
        "id": "a7r4RMtm_Fcd"
      },
      "execution_count": null,
      "outputs": []
    },
    {
      "cell_type": "code",
      "source": [
        "model <- lm(y~x)\n",
        "model"
      ],
      "metadata": {
        "id": "R1QEb1NcAV_T"
      },
      "execution_count": null,
      "outputs": []
    },
    {
      "cell_type": "code",
      "source": [
        "model_summary <- summary(model)\n",
        "  \n",
        "intercept_value <- model_summary$coefficients[1,1]\n",
        "  \n",
        "intercept_value"
      ],
      "metadata": {
        "id": "4ppxeN5bAadG"
      },
      "execution_count": null,
      "outputs": []
    },
    {
      "cell_type": "code",
      "source": [
        "model_summary <- summary(model)\n",
        "model_summary"
      ],
      "metadata": {
        "id": "en63ResYAru1"
      },
      "execution_count": null,
      "outputs": []
    },
    {
      "cell_type": "code",
      "source": [
        ""
      ],
      "metadata": {
        "id": "PEmmMoeWAwNo"
      },
      "execution_count": null,
      "outputs": []
    }
  ]
}